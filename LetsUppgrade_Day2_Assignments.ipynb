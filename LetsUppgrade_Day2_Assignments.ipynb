{
  "nbformat": 4,
  "nbformat_minor": 0,
  "metadata": {
    "colab": {
      "name": "LetsUppgrade/Day2/Assignments.ipynb",
      "provenance": [],
      "authorship_tag": "ABX9TyObxAMdFMuLDIRxxxoYOC+1",
      "include_colab_link": true
    },
    "kernelspec": {
      "name": "python3",
      "display_name": "Python 3"
    }
  },
  "cells": [
    {
      "cell_type": "markdown",
      "metadata": {
        "id": "view-in-github",
        "colab_type": "text"
      },
      "source": [
        "<a href=\"https://colab.research.google.com/github/w4yuz/Gaurav-LetsUppgrade-Python-B7/blob/master/LetsUppgrade_Day2_Assignments.ipynb\" target=\"_parent\"><img src=\"https://colab.research.google.com/assets/colab-badge.svg\" alt=\"Open In Colab\"/></a>"
      ]
    },
    {
      "cell_type": "code",
      "metadata": {
        "id": "2MDMrZUoswEd",
        "colab_type": "code",
        "colab": {
          "base_uri": "https://localhost:8080/",
          "height": 34
        },
        "outputId": "2ba833a5-612d-44b6-e25b-2cecfe821231"
      },
      "source": [
        "#1.List and it's default Functions\n",
        "\n",
        "thislist = [\"001\", \"Gaurav\", \"Jagdale\"]\n",
        "print(thislist[1])"
      ],
      "execution_count": 1,
      "outputs": [
        {
          "output_type": "stream",
          "text": [
            "Gaurav\n"
          ],
          "name": "stdout"
        }
      ]
    },
    {
      "cell_type": "code",
      "metadata": {
        "id": "Cc1dzsGIvsG9",
        "colab_type": "code",
        "colab": {
          "base_uri": "https://localhost:8080/",
          "height": 34
        },
        "outputId": "e094ea12-183b-4ec0-cba0-bb135602b1ad"
      },
      "source": [
        "#Negative Indexing \n",
        "\n",
        "thislist = [\"001\", \"Gaurav\", \"Jagdale\"]\n",
        "print(thislist[-1])"
      ],
      "execution_count": 2,
      "outputs": [
        {
          "output_type": "stream",
          "text": [
            "Jagdale\n"
          ],
          "name": "stdout"
        }
      ]
    },
    {
      "cell_type": "code",
      "metadata": {
        "id": "XV2xn__dtKjJ",
        "colab_type": "code",
        "colab": {
          "base_uri": "https://localhost:8080/",
          "height": 34
        },
        "outputId": "da70e2b5-e56c-4dca-ce9e-10cf8664b956"
      },
      "source": [
        "#Return the third, fourth, and fifth item\n",
        "\n",
        "thislist = [\"001\", \"Nilesh\",\"Gaurav\",\"Leena\",\"Srotriya\",\"Niraj\"]\n",
        "print(thislist[2:5])"
      ],
      "execution_count": 8,
      "outputs": [
        {
          "output_type": "stream",
          "text": [
            "['Gaurav', 'Leena', 'Srotriya']\n"
          ],
          "name": "stdout"
        }
      ]
    },
    {
      "cell_type": "code",
      "metadata": {
        "id": "9zWjiz5nx24c",
        "colab_type": "code",
        "colab": {}
      },
      "source": [
        "#Use Append in List\n",
        "\n",
        "thislist = [\"001\", \"Nilesh\",\"Gaurav\",\"Leena\",\"Srotriya\",\"Niraj\"]\n",
        "thislist.append(\"Kiran\")"
      ],
      "execution_count": 17,
      "outputs": []
    },
    {
      "cell_type": "code",
      "metadata": {
        "id": "MLlT_VAoyVVZ",
        "colab_type": "code",
        "colab": {
          "base_uri": "https://localhost:8080/",
          "height": 34
        },
        "outputId": "1511d4e3-33fc-4204-fe4c-6afea5c0c412"
      },
      "source": [
        "thislist"
      ],
      "execution_count": 11,
      "outputs": [
        {
          "output_type": "execute_result",
          "data": {
            "text/plain": [
              "['001', 'Nilesh', 'Gaurav', 'Leena', 'Srotriya', 'Niraj', 'Kiran']"
            ]
          },
          "metadata": {
            "tags": []
          },
          "execution_count": 11
        }
      ]
    },
    {
      "cell_type": "code",
      "metadata": {
        "id": "cMCvYWjJzCL3",
        "colab_type": "code",
        "colab": {}
      },
      "source": [
        "#2.Dictionaries and it's default functions\n",
        "\n",
        "dit = {\"Name\":\"Gaurav\",\"Age\":\"23\",\"Mob-No\":8888411563,\"email\":\"jagdalegaurav60@gmail.com\"}"
      ],
      "execution_count": 23,
      "outputs": []
    },
    {
      "cell_type": "code",
      "metadata": {
        "id": "e5_-l_oC2AC2",
        "colab_type": "code",
        "colab": {
          "base_uri": "https://localhost:8080/",
          "height": 34
        },
        "outputId": "36e55a84-4e9c-4a2f-a1fa-8885fa1187dc"
      },
      "source": [
        "#Get the values from Dist\n",
        "\n",
        "dit = {\"Name\":\"Gaurav\",\"Age\":\"23\",\"Mob-No\":8888411563,\"email\":\"jagdalegaurav60@gmail.com\"}\n",
        "x = dit[\"Name\"]\n",
        "print(x)"
      ],
      "execution_count": 34,
      "outputs": [
        {
          "output_type": "stream",
          "text": [
            "Gaurav\n"
          ],
          "name": "stdout"
        }
      ]
    },
    {
      "cell_type": "code",
      "metadata": {
        "id": "QBXQWrNc3kFR",
        "colab_type": "code",
        "colab": {
          "base_uri": "https://localhost:8080/",
          "height": 34
        },
        "outputId": "661129fb-7ede-4539-a5cb-ec949ecb7242"
      },
      "source": [
        "#Get the items from Dist\n",
        "\n",
        "dit = {\"Name\":\"Gaurav\",\"Age\":\"23\",\"Mob-No\":8888411563,\"email\":\"jagdalegaurav60@gmail.com\"}\n",
        "dit.items()"
      ],
      "execution_count": 38,
      "outputs": [
        {
          "output_type": "execute_result",
          "data": {
            "text/plain": [
              "dict_items([('Name', 'Gaurav'), ('Age', '23'), ('Mob-No', 8888411563), ('email', 'jagdalegaurav60@gmail.com')])"
            ]
          },
          "metadata": {
            "tags": []
          },
          "execution_count": 38
        }
      ]
    },
    {
      "cell_type": "code",
      "metadata": {
        "id": "n0kTl3TE380W",
        "colab_type": "code",
        "colab": {
          "base_uri": "https://localhost:8080/",
          "height": 34
        },
        "outputId": "7e2cca06-c6d7-4ced-d572-4bd6e3026435"
      },
      "source": [
        "#Get the keys\n",
        "\n",
        "dit = {\"Name\":\"Gaurav\",\"Age\":\"23\",\"Mob-No\":8888411563,\"email\":\"jagdalegaurav60@gmail.com\"}\n",
        "dit.keys()"
      ],
      "execution_count": 41,
      "outputs": [
        {
          "output_type": "execute_result",
          "data": {
            "text/plain": [
              "dict_keys(['Name', 'Age', 'Mob-No', 'email'])"
            ]
          },
          "metadata": {
            "tags": []
          },
          "execution_count": 41
        }
      ]
    },
    {
      "cell_type": "code",
      "metadata": {
        "id": "LwKiRKxt4hKA",
        "colab_type": "code",
        "colab": {
          "base_uri": "https://localhost:8080/",
          "height": 85
        },
        "outputId": "83aa2d91-abb9-43a2-8fc9-0a94eead7777"
      },
      "source": [
        "dit"
      ],
      "execution_count": 42,
      "outputs": [
        {
          "output_type": "execute_result",
          "data": {
            "text/plain": [
              "{'Age': '23',\n",
              " 'Mob-No': 8888411563,\n",
              " 'Name': 'Gaurav',\n",
              " 'email': 'jagdalegaurav60@gmail.com'}"
            ]
          },
          "metadata": {
            "tags": []
          },
          "execution_count": 42
        }
      ]
    },
    {
      "cell_type": "code",
      "metadata": {
        "id": "m3AY8mjc4lck",
        "colab_type": "code",
        "colab": {}
      },
      "source": [
        "#Adding new elements in Dict\n",
        "\n",
        "dit[\"school\"] = \"GMJ\""
      ],
      "execution_count": 43,
      "outputs": []
    },
    {
      "cell_type": "code",
      "metadata": {
        "id": "0yaTA3VC4zwE",
        "colab_type": "code",
        "colab": {
          "base_uri": "https://localhost:8080/",
          "height": 102
        },
        "outputId": "fdd17afb-07f6-42a8-df0c-3c9bbeb70559"
      },
      "source": [
        "dit"
      ],
      "execution_count": 44,
      "outputs": [
        {
          "output_type": "execute_result",
          "data": {
            "text/plain": [
              "{'Age': '23',\n",
              " 'Mob-No': 8888411563,\n",
              " 'Name': 'Gaurav',\n",
              " 'email': 'jagdalegaurav60@gmail.com',\n",
              " 'school': 'GMJ'}"
            ]
          },
          "metadata": {
            "tags": []
          },
          "execution_count": 44
        }
      ]
    },
    {
      "cell_type": "code",
      "metadata": {
        "id": "U_jFBlXP5Rlm",
        "colab_type": "code",
        "colab": {
          "base_uri": "https://localhost:8080/",
          "height": 34
        },
        "outputId": "e06ca594-dc94-4852-9dfa-5d3190d1ff69"
      },
      "source": [
        "#3.Sets and it's default functions\n",
        "\n",
        "thisset = {\"apple\", \"banana\", \"cherry\"}\n",
        "print(thisset)"
      ],
      "execution_count": 45,
      "outputs": [
        {
          "output_type": "stream",
          "text": [
            "{'banana', 'apple', 'cherry'}\n"
          ],
          "name": "stdout"
        }
      ]
    },
    {
      "cell_type": "code",
      "metadata": {
        "id": "A5f2W4V257A7",
        "colab_type": "code",
        "colab": {
          "base_uri": "https://localhost:8080/",
          "height": 34
        },
        "outputId": "cab1fb37-cba2-4bb8-8184-1d1e934d6eee"
      },
      "source": [
        "#Check the banana is present in set or not\n",
        "\n",
        "thisset = {\"apple\", \"banana\", \"cherry\"}\n",
        "\n",
        "print(\"banana\" in thisset)"
      ],
      "execution_count": 46,
      "outputs": [
        {
          "output_type": "stream",
          "text": [
            "True\n"
          ],
          "name": "stdout"
        }
      ]
    },
    {
      "cell_type": "code",
      "metadata": {
        "id": "cEC-ZZvq6kvT",
        "colab_type": "code",
        "colab": {}
      },
      "source": [
        "#add the itme in set\n",
        "thisset.add(\"orange\")"
      ],
      "execution_count": 47,
      "outputs": []
    },
    {
      "cell_type": "code",
      "metadata": {
        "id": "3oEicOzI6mHc",
        "colab_type": "code",
        "colab": {
          "base_uri": "https://localhost:8080/",
          "height": 34
        },
        "outputId": "205c7c2c-b46b-43b8-ae0d-c577295d3aea"
      },
      "source": [
        "thisset"
      ],
      "execution_count": 48,
      "outputs": [
        {
          "output_type": "execute_result",
          "data": {
            "text/plain": [
              "{'apple', 'banana', 'cherry', 'orange'}"
            ]
          },
          "metadata": {
            "tags": []
          },
          "execution_count": 48
        }
      ]
    },
    {
      "cell_type": "code",
      "metadata": {
        "id": "pj3Wogyy6pBM",
        "colab_type": "code",
        "colab": {}
      },
      "source": [
        "#Add multiple items to a set, using the update() method\n",
        "\n",
        "thisset.update([\"gaurav\", \"leena\", \"srotriya\"])"
      ],
      "execution_count": 49,
      "outputs": []
    },
    {
      "cell_type": "code",
      "metadata": {
        "id": "d5-xEM7W7LPj",
        "colab_type": "code",
        "colab": {
          "base_uri": "https://localhost:8080/",
          "height": 34
        },
        "outputId": "4d059a78-590d-4f20-807f-bb2b13d9a001"
      },
      "source": [
        "thisset"
      ],
      "execution_count": 50,
      "outputs": [
        {
          "output_type": "execute_result",
          "data": {
            "text/plain": [
              "{'apple', 'banana', 'cherry', 'gaurav', 'leena', 'orange', 'srotriya'}"
            ]
          },
          "metadata": {
            "tags": []
          },
          "execution_count": 50
        }
      ]
    },
    {
      "cell_type": "code",
      "metadata": {
        "id": "KwjHXt4v7Nuw",
        "colab_type": "code",
        "colab": {
          "base_uri": "https://localhost:8080/",
          "height": 34
        },
        "outputId": "ded496f4-1c02-4562-8702-791c3e888b6a"
      },
      "source": [
        "#Get the lenth of item \n",
        "\n",
        "print(len(thisset))"
      ],
      "execution_count": 51,
      "outputs": [
        {
          "output_type": "stream",
          "text": [
            "7\n"
          ],
          "name": "stdout"
        }
      ]
    },
    {
      "cell_type": "code",
      "metadata": {
        "id": "qxZpklBs7rWp",
        "colab_type": "code",
        "colab": {
          "base_uri": "https://localhost:8080/",
          "height": 34
        },
        "outputId": "1bd19ba8-948c-47e8-9a1c-de700e7c7a2a"
      },
      "source": [
        "#4.Tuple & Explore default functions\n",
        "\n",
        "thistuple = (\"apple\", \"banana\", \"cherry\")\n",
        "print(thistuple)"
      ],
      "execution_count": 52,
      "outputs": [
        {
          "output_type": "stream",
          "text": [
            "('apple', 'banana', 'cherry')\n"
          ],
          "name": "stdout"
        }
      ]
    },
    {
      "cell_type": "code",
      "metadata": {
        "id": "mUka9j3q8VOG",
        "colab_type": "code",
        "colab": {
          "base_uri": "https://localhost:8080/",
          "height": 34
        },
        "outputId": "7c3c64f0-8c31-4707-ea5c-2a04e707792f"
      },
      "source": [
        "#Print the second item in the tuple:\n",
        "thistuple = (\"apple\", \"banana\", \"cherry\")\n",
        "print(thistuple[1])"
      ],
      "execution_count": 53,
      "outputs": [
        {
          "output_type": "stream",
          "text": [
            "banana\n"
          ],
          "name": "stdout"
        }
      ]
    },
    {
      "cell_type": "code",
      "metadata": {
        "id": "EVe7w2C99m8-",
        "colab_type": "code",
        "colab": {
          "base_uri": "https://localhost:8080/",
          "height": 34
        },
        "outputId": "bac78cdb-1e9b-4a27-abef-84586de56d1f"
      },
      "source": [
        "#Print the last item of the tuple:\n",
        "\n",
        "thistuple = (\"apple\", \"banana\", \"cherry\")\n",
        "print(thistuple[-1])"
      ],
      "execution_count": 54,
      "outputs": [
        {
          "output_type": "stream",
          "text": [
            "cherry\n"
          ],
          "name": "stdout"
        }
      ]
    },
    {
      "cell_type": "code",
      "metadata": {
        "id": "33FhgcoQ99fZ",
        "colab_type": "code",
        "colab": {
          "base_uri": "https://localhost:8080/",
          "height": 34
        },
        "outputId": "fb0deaac-9f92-41e4-feec-84fe321c671d"
      },
      "source": [
        "#Return the third, fourth, and fifth item:\n",
        "\n",
        "thistuple = (\"apple\", \"banana\", \"cherry\", \"orange\", \"kiwi\", \"melon\", \"mango\")\n",
        "print(thistuple[2:5])"
      ],
      "execution_count": 55,
      "outputs": [
        {
          "output_type": "stream",
          "text": [
            "('cherry', 'orange', 'kiwi')\n"
          ],
          "name": "stdout"
        }
      ]
    },
    {
      "cell_type": "code",
      "metadata": {
        "id": "Hbu5VfTe-KXD",
        "colab_type": "code",
        "colab": {}
      },
      "source": [
        "#5.String and explore default functions\n",
        "\n",
        "fruits = ['apple', 'banana', 'cherry']"
      ],
      "execution_count": 56,
      "outputs": []
    },
    {
      "cell_type": "code",
      "metadata": {
        "id": "tc9inCUQ_CP3",
        "colab_type": "code",
        "colab": {
          "base_uri": "https://localhost:8080/",
          "height": 34
        },
        "outputId": "6f76f9bb-ffd4-47e8-a7cf-9afa945bf768"
      },
      "source": [
        "fruits"
      ],
      "execution_count": 57,
      "outputs": [
        {
          "output_type": "execute_result",
          "data": {
            "text/plain": [
              "['apple', 'banana', 'cherry']"
            ]
          },
          "metadata": {
            "tags": []
          },
          "execution_count": 57
        }
      ]
    },
    {
      "cell_type": "code",
      "metadata": {
        "id": "_Ms5IR7v_EN8",
        "colab_type": "code",
        "colab": {}
      },
      "source": [
        "#Add an element to the fruits list\n",
        "\n",
        "fruits.append(\"orange\")"
      ],
      "execution_count": 58,
      "outputs": []
    },
    {
      "cell_type": "code",
      "metadata": {
        "id": "rK_W0VMW_PDR",
        "colab_type": "code",
        "colab": {
          "base_uri": "https://localhost:8080/",
          "height": 34
        },
        "outputId": "0643ffde-cf04-4c43-bac5-d64693ea6f17"
      },
      "source": [
        "fruits"
      ],
      "execution_count": 59,
      "outputs": [
        {
          "output_type": "execute_result",
          "data": {
            "text/plain": [
              "['apple', 'banana', 'cherry', 'orange']"
            ]
          },
          "metadata": {
            "tags": []
          },
          "execution_count": 59
        }
      ]
    },
    {
      "cell_type": "code",
      "metadata": {
        "id": "JnIpA1H2_n2F",
        "colab_type": "code",
        "colab": {}
      },
      "source": [
        "#Appends\n",
        "\n",
        "a = [\"apple\", \"banana\", \"cherry\"]\n"
      ],
      "execution_count": 61,
      "outputs": []
    },
    {
      "cell_type": "code",
      "metadata": {
        "id": "LWUXEFiu_0Ua",
        "colab_type": "code",
        "colab": {
          "base_uri": "https://localhost:8080/",
          "height": 34
        },
        "outputId": "93b5bc9d-cc0c-4d7a-b78e-0982051488eb"
      },
      "source": [
        "a"
      ],
      "execution_count": 62,
      "outputs": [
        {
          "output_type": "execute_result",
          "data": {
            "text/plain": [
              "['apple', 'banana', 'cherry']"
            ]
          },
          "metadata": {
            "tags": []
          },
          "execution_count": 62
        }
      ]
    },
    {
      "cell_type": "code",
      "metadata": {
        "id": "9wCku9oL_2MH",
        "colab_type": "code",
        "colab": {}
      },
      "source": [
        "a = [\"apple\", \"banana\", \"cherry\"]\n",
        "b = [\"Ford\", \"BMW\", \"Volvo\"]\n",
        "a.append(b)"
      ],
      "execution_count": 63,
      "outputs": []
    },
    {
      "cell_type": "code",
      "metadata": {
        "id": "nivLWvTW_5X6",
        "colab_type": "code",
        "colab": {
          "base_uri": "https://localhost:8080/",
          "height": 34
        },
        "outputId": "d358a018-6948-4fef-eea2-23a4e22fc932"
      },
      "source": [
        "a"
      ],
      "execution_count": 64,
      "outputs": [
        {
          "output_type": "execute_result",
          "data": {
            "text/plain": [
              "['apple', 'banana', 'cherry', ['Ford', 'BMW', 'Volvo']]"
            ]
          },
          "metadata": {
            "tags": []
          },
          "execution_count": 64
        }
      ]
    },
    {
      "cell_type": "code",
      "metadata": {
        "id": "pZY1b9Il_8SV",
        "colab_type": "code",
        "colab": {
          "base_uri": "https://localhost:8080/",
          "height": 35
        },
        "outputId": "404680be-4ace-4b15-8b91-4be607f778a1"
      },
      "source": [
        "#POP\n",
        "\n",
        "fruits = ['apple', 'banana', 'cherry']\n",
        "\n",
        "fruits.pop(1)"
      ],
      "execution_count": 65,
      "outputs": [
        {
          "output_type": "execute_result",
          "data": {
            "application/vnd.google.colaboratory.intrinsic+json": {
              "type": "string"
            },
            "text/plain": [
              "'banana'"
            ]
          },
          "metadata": {
            "tags": []
          },
          "execution_count": 65
        }
      ]
    },
    {
      "cell_type": "code",
      "metadata": {
        "id": "IkSeFyc5AKtg",
        "colab_type": "code",
        "colab": {
          "base_uri": "https://localhost:8080/",
          "height": 34
        },
        "outputId": "4c933d40-ae94-4661-889d-fc88ce375be8"
      },
      "source": [
        "fruits"
      ],
      "execution_count": 66,
      "outputs": [
        {
          "output_type": "execute_result",
          "data": {
            "text/plain": [
              "['apple', 'cherry']"
            ]
          },
          "metadata": {
            "tags": []
          },
          "execution_count": 66
        }
      ]
    },
    {
      "cell_type": "code",
      "metadata": {
        "id": "EirRzxFNAL8u",
        "colab_type": "code",
        "colab": {
          "base_uri": "https://localhost:8080/",
          "height": 34
        },
        "outputId": "a88962b5-ccd3-408b-fc1f-9f40d4bfbfd5"
      },
      "source": [
        "#Return the count\n",
        "\n",
        "fruits = ['apple', 'banana', 'cherry']\n",
        "\n",
        "x = fruits.count(\"cherry\")\n",
        "print(x)"
      ],
      "execution_count": 69,
      "outputs": [
        {
          "output_type": "stream",
          "text": [
            "1\n"
          ],
          "name": "stdout"
        }
      ]
    },
    {
      "cell_type": "code",
      "metadata": {
        "id": "0n9BQDR5AZ5Z",
        "colab_type": "code",
        "colab": {
          "base_uri": "https://localhost:8080/",
          "height": 34
        },
        "outputId": "49ff0b5d-4f6b-4b39-a025-3504e573900f"
      },
      "source": [
        "#Reverse the order of the fruit list:\n",
        "\n",
        "fruits = ['apple', 'banana', 'cherry']\n",
        "\n",
        "fruits.reverse()\n",
        "\n",
        "print(fruits)"
      ],
      "execution_count": 70,
      "outputs": [
        {
          "output_type": "stream",
          "text": [
            "['cherry', 'banana', 'apple']\n"
          ],
          "name": "stdout"
        }
      ]
    },
    {
      "cell_type": "code",
      "metadata": {
        "id": "DP1KhcHLA2D7",
        "colab_type": "code",
        "colab": {}
      },
      "source": [
        ""
      ],
      "execution_count": null,
      "outputs": []
    }
  ]
}