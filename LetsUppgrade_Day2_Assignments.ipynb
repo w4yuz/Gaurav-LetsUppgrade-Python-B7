{
  "nbformat": 4,
  "nbformat_minor": 0,
  "metadata": {
    "colab": {
      "name": "LetsUppgrade/Day2/Assignments.ipynb",
      "provenance": [],
      "authorship_tag": "ABX9TyO1d6Ex53KcoDPf68T2h4mF",
      "include_colab_link": true
    },
    "kernelspec": {
      "name": "python3",
      "display_name": "Python 3"
    }
  },
  "cells": [
    {
      "cell_type": "markdown",
      "metadata": {
        "id": "view-in-github",
        "colab_type": "text"
      },
      "source": [
        "<a href=\"https://colab.research.google.com/github/w4yuz/Gaurav-LetsUppgrade-Python-B7/blob/master/LetsUppgrade_Day2_Assignments.ipynb\" target=\"_parent\"><img src=\"https://colab.research.google.com/assets/colab-badge.svg\" alt=\"Open In Colab\"/></a>"
      ]
    },
    {
      "cell_type": "code",
      "metadata": {
        "id": "26-6--XNCtTS",
        "colab_type": "code",
        "colab": {
          "base_uri": "https://localhost:8080/",
          "height": 51
        },
        "outputId": "a8cd4d0e-ca8e-4905-831e-e195e69574c6"
      },
      "source": [
        "#Question 1 \n",
        "\n",
        "num = input(\"Enter the landing FT=\")\n",
        "\n",
        "num = int(num)\n",
        "\n",
        "if num <= 1000:\n",
        "  print(\"Safe to land\")\n",
        "elif num >=1000 and num <= 5000:\n",
        "  print(\"Bring down to 1000\")\n",
        "elif num >= 5000:\n",
        "  print(\"Turn arround\")\n",
        "\n",
        "\n",
        "    "
      ],
      "execution_count": 13,
      "outputs": [
        {
          "output_type": "stream",
          "text": [
            "Enter the landing FT=6000\n",
            "Turn arround\n"
          ],
          "name": "stdout"
        }
      ]
    },
    {
      "cell_type": "code",
      "metadata": {
        "id": "M39CZBpCF8aJ",
        "colab_type": "code",
        "colab": {
          "base_uri": "https://localhost:8080/",
          "height": 34
        },
        "outputId": "3e638f9d-f6d6-4c25-d5a4-9f8e4134e8bb"
      },
      "source": [
        "#Question 2\n",
        "# Python Program to print Prime Numbers from 1 to 100\n",
        " \n",
        "for Number in range (1, 101):\n",
        "    count = 0\n",
        "    for i in range(2, (Number//2 + 1)):\n",
        "        if(Number % i == 0):\n",
        "            count = count + 1\n",
        "            break\n",
        "\n",
        "    if (count == 0 and Number != 1):\n",
        "        print(\" %d\" %Number, end = '  ')"
      ],
      "execution_count": 11,
      "outputs": [
        {
          "output_type": "stream",
          "text": [
            " 2   3   5   7   11   13   17   19   23   29   31   37   41   43   47   53   59   61   67   71   73   79   83   89   97  "
          ],
          "name": "stdout"
        }
      ]
    },
    {
      "cell_type": "code",
      "metadata": {
        "id": "Fqww0AM2H4IX",
        "colab_type": "code",
        "colab": {}
      },
      "source": [
        ""
      ],
      "execution_count": null,
      "outputs": []
    }
  ]
}